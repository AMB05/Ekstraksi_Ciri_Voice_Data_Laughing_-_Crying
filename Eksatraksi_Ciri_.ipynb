{
 "cells": [
  {
   "cell_type": "code",
   "execution_count": 24,
   "id": "ff6f3340",
   "metadata": {},
   "outputs": [],
   "source": [
    "import os\n",
    "import glob\n",
    "import numpy as np\n",
    "import pandas as pd\n",
    "from scipy.io import wavfile\n",
    "from scipy.fft import rfft, rfftfreq\n",
    "from sklearn.model_selection import train_test_split\n",
    "from sklearn.preprocessing import StandardScaler\n",
    "from sklearn.neighbors import KNeighborsClassifier\n",
    "from sklearn.metrics import accuracy_score"
   ]
  },
  {
   "cell_type": "code",
   "execution_count": 25,
   "id": "172409b3",
   "metadata": {},
   "outputs": [],
   "source": [
    "def load_audio_files(data_dir, folders):\n",
    "    features_list = []\n",
    "    labels = []\n",
    "    \n",
    "    for label in folders:\n",
    "        folder_path = os.path.join(data_dir, label)\n",
    "        for file_path in glob.glob(os.path.join(folder_path, '*.wav')):\n",
    "            sr, data = wavfile.read(file_path)\n",
    "            \n",
    "            # Handle stereo audio\n",
    "            if len(data.shape) > 1:\n",
    "                data = data[:, 0]\n",
    "                \n",
    "            features = extract_features(data, sr)\n",
    "            features_list.append(features)\n",
    "            labels.append(label)\n",
    "    \n",
    "    return features_list, labels"
   ]
  },
  {
   "cell_type": "code",
   "execution_count": 26,
   "id": "a661c572",
   "metadata": {},
   "outputs": [],
   "source": [
    "def extract_features(data, sr):\n",
    "    n = len(data)\n",
    "    fft_result = rfft(data)\n",
    "    magnitudes = np.abs(fft_result)\n",
    "    freqs = rfftfreq(n, d=1/sr)\n",
    "    \n",
    "    # Basic statistics\n",
    "    mean = np.mean(magnitudes)\n",
    "    median = np.median(magnitudes)\n",
    "    std = np.std(magnitudes)\n",
    "    var = np.var(magnitudes)\n",
    "    max_mag = np.max(magnitudes)\n",
    "    min_mag = np.min(magnitudes)\n",
    "    percentile_25 = np.percentile(magnitudes, 25)\n",
    "    percentile_75 = np.percentile(magnitudes, 75)\n",
    "    \n",
    "    # Spectral centroid\n",
    "    if np.sum(magnitudes) == 0:\n",
    "        spectral_centroid = 0\n",
    "    else:\n",
    "        spectral_centroid = np.sum(freqs * magnitudes) / np.sum(magnitudes)\n",
    "    \n",
    "    deviations = freqs - spectral_centroid\n",
    "    \n",
    "    # Spectral bandwidth\n",
    "    if np.sum(magnitudes) == 0:\n",
    "        spectral_bandwidth = 0\n",
    "    else:\n",
    "        spectral_bandwidth = np.sqrt(np.sum((deviations ** 2) * magnitudes) / np.sum(magnitudes))\n",
    "    \n",
    "    # Spectral flatness\n",
    "    epsilon = 1e-10\n",
    "    geometric_mean = np.exp(np.mean(np.log(magnitudes + epsilon)))\n",
    "    arithmetic_mean = np.mean(magnitudes + epsilon)\n",
    "    spectral_flatness = geometric_mean / arithmetic_mean\n",
    "    \n",
    "    # Spectral rolloff (85%)\n",
    "    total_energy = np.sum(magnitudes ** 2)\n",
    "    spectral_rolloff = 0\n",
    "    if total_energy > 0:\n",
    "        cumulative_energy = np.cumsum(magnitudes ** 2)\n",
    "        threshold = 0.85 * total_energy\n",
    "        rolloff_index = np.where(cumulative_energy >= threshold)[0]\n",
    "        if len(rolloff_index) > 0:\n",
    "            spectral_rolloff = freqs[rolloff_index[0]]\n",
    "    \n",
    "    # Peak frequency\n",
    "    peak_index = np.argmax(magnitudes)\n",
    "    peak_frequency = freqs[peak_index] if len(magnitudes) > 0 else 0\n",
    "    \n",
    "    # RMS\n",
    "    rms = np.sqrt(np.mean(magnitudes ** 2))\n",
    "    \n",
    "    # Spectral skewness\n",
    "    spectral_skewness = 0\n",
    "    if spectral_bandwidth != 0 and np.sum(magnitudes) != 0:\n",
    "        spectral_skewness = np.sum((deviations ** 3) * magnitudes) / (np.sum(magnitudes) * (spectral_bandwidth ** 3))\n",
    "    \n",
    "    # Spectral kurtosis\n",
    "    spectral_kurtosis = 0\n",
    "    if spectral_bandwidth != 0 and np.sum(magnitudes) != 0:\n",
    "        spectral_kurtosis = np.sum((deviations ** 4) * magnitudes) / (np.sum(magnitudes) * (spectral_bandwidth ** 4))\n",
    "    \n",
    "    return [\n",
    "        mean, median, std, var, max_mag, min_mag,\n",
    "        percentile_25, percentile_75,\n",
    "        spectral_centroid, spectral_bandwidth,\n",
    "        spectral_flatness, spectral_rolloff,\n",
    "        peak_frequency, rms,\n",
    "        spectral_skewness, spectral_kurtosis\n",
    "    ]"
   ]
  },
  {
   "cell_type": "code",
   "execution_count": 27,
   "id": "08923597",
   "metadata": {},
   "outputs": [],
   "source": [
    "data_dir = 'D:\\Project\\Ekstraksi_Ciri_Voice_Data_Laughing_-_Crying'  # Ganti dengan path data Anda\n",
    "folders = ['crying', 'laughing']"
   ]
  },
  {
   "cell_type": "code",
   "execution_count": 28,
   "id": "cef021ef",
   "metadata": {},
   "outputs": [],
   "source": [
    "features, labels = load_audio_files(data_dir, folders)"
   ]
  },
  {
   "cell_type": "code",
   "execution_count": 29,
   "id": "0771b54c",
   "metadata": {},
   "outputs": [],
   "source": [
    "columns = [\n",
    "    'Mean', 'Median', 'Std', 'Var', 'Max', 'Min',\n",
    "    '25th Percentile', '75th Percentile',\n",
    "    'Spectral Centroid', 'Spectral Bandwidth',\n",
    "    'Spectral Flatness', 'Spectral Rolloff',\n",
    "    'Peak Frequency', 'RMS',\n",
    "    'Spectral Skewness', 'Spectral Kurtosis'\n",
    "]"
   ]
  },
  {
   "cell_type": "code",
   "execution_count": 30,
   "id": "dc01c864",
   "metadata": {},
   "outputs": [],
   "source": [
    "df = pd.DataFrame(features, columns=columns)\n",
    "df['Label'] = labels"
   ]
  },
  {
   "cell_type": "code",
   "execution_count": 31,
   "id": "3c10a35d",
   "metadata": {},
   "outputs": [
    {
     "name": "stdout",
     "output_type": "stream",
     "text": [
      "Data berhasil disimpan ke audio_features.csv\n"
     ]
    }
   ],
   "source": [
    "df.to_csv('audio_features.csv', index=False)\n",
    "print(\"Data berhasil disimpan ke audio_features.csv\")"
   ]
  },
  {
   "cell_type": "code",
   "execution_count": 32,
   "id": "bdd00914",
   "metadata": {},
   "outputs": [],
   "source": [
    "X = df.drop('Label', axis=1)\n",
    "y = df['Label']"
   ]
  },
  {
   "cell_type": "code",
   "execution_count": 33,
   "id": "921fa7ba",
   "metadata": {},
   "outputs": [],
   "source": [
    "X_train, X_test, y_train, y_test = train_test_split(\n",
    "    X, y, test_size=0.2, random_state=42)"
   ]
  },
  {
   "cell_type": "code",
   "execution_count": 34,
   "id": "403fc147",
   "metadata": {},
   "outputs": [],
   "source": [
    "scaler = StandardScaler()\n",
    "X_train_scaled = scaler.fit_transform(X_train)\n",
    "X_test_scaled = scaler.transform(X_test)"
   ]
  },
  {
   "cell_type": "code",
   "execution_count": 35,
   "id": "d838fe6c",
   "metadata": {},
   "outputs": [],
   "source": [
    "metrics = ['euclidean', 'manhattan', 'chebyshev']\n",
    "results = {}\n",
    "\n",
    "for metric in metrics:\n",
    "    knn = KNeighborsClassifier(n_neighbors=3, metric=metric)\n",
    "    knn.fit(X_train_scaled, y_train)\n",
    "    y_pred = knn.predict(X_test_scaled)\n",
    "    acc = accuracy_score(y_test, y_pred)\n",
    "    results[metric] = acc"
   ]
  },
  {
   "cell_type": "code",
   "execution_count": 36,
   "id": "9a1db6a7",
   "metadata": {},
   "outputs": [
    {
     "name": "stdout",
     "output_type": "stream",
     "text": [
      "\n",
      "Hasil Akurasi:\n",
      "EUCLIDEAN : 90.00%\n",
      "MANHATTAN : 90.00%\n",
      "CHEBYSHEV : 80.00%\n"
     ]
    }
   ],
   "source": [
    "print(\"\\nHasil Akurasi:\")\n",
    "for metric, acc in results.items():\n",
    "    print(f\"{metric.upper():<10}: {acc:.2%}\")"
   ]
  },
  {
   "cell_type": "code",
   "execution_count": 37,
   "id": "b5154143",
   "metadata": {},
   "outputs": [],
   "source": [
    "from sklearn.metrics import confusion_matrix, classification_report\n",
    "import seaborn as sns\n",
    "import matplotlib.pyplot as plt"
   ]
  },
  {
   "cell_type": "code",
   "execution_count": 38,
   "id": "cf55c53d",
   "metadata": {},
   "outputs": [
    {
     "data": {
      "image/png": "[encoded data removed]",
      "text/plain": [
       "<Figure size 1080x360 with 6 Axes>"
      ]
     },
     "metadata": {
      "needs_background": "light"
     },
     "output_type": "display_data"
    }
   ],
   "source": [
    "metrics = ['euclidean', 'manhattan', 'chebyshev']\n",
    "results = {}\n",
    "\n",
    "plt.figure(figsize=(15, 5))\n",
    "for i, metric in enumerate(metrics, 1):\n",
    "    # Training dan testing\n",
    "    knn = KNeighborsClassifier(n_neighbors=3, metric=metric)\n",
    "    knn.fit(X_train_scaled, y_train)\n",
    "    y_pred = knn.predict(X_test_scaled)\n",
    "    acc = accuracy_score(y_test, y_pred)\n",
    "    results[metric] = acc\n",
    "    \n",
    "    # Confusion matrix\n",
    "    cm = confusion_matrix(y_test, y_pred)\n",
    "    \n",
    "    # Plot confusion matrix\n",
    "    plt.subplot(1, 3, i)\n",
    "    sns.heatmap(cm, annot=True, fmt='d', cmap='Blues', \n",
    "                xticklabels=folders, yticklabels=folders)\n",
    "    plt.title(f'{metric.upper()} Matrix\\nAccuracy: {acc:.2%}')\n",
    "    plt.xlabel('Predicted')\n",
    "    plt.ylabel('Actual')\n",
    "\n",
    "plt.tight_layout()\n",
    "plt.show()"
   ]
  },
  {
   "cell_type": "code",
   "execution_count": 39,
   "id": "a892ba1f",
   "metadata": {},
   "outputs": [
    {
     "name": "stdout",
     "output_type": "stream",
     "text": [
      "\n",
      "Classification Report untuk CHEBYSHEV\n",
      "              precision    recall  f1-score   support\n",
      "\n",
      "      crying       0.60      1.00      0.75         3\n",
      "    laughing       1.00      0.71      0.83         7\n",
      "\n",
      "    accuracy                           0.80        10\n",
      "   macro avg       0.80      0.86      0.79        10\n",
      "weighted avg       0.88      0.80      0.81        10\n",
      "\n"
     ]
    }
   ],
   "source": [
    "print(\"\\nClassification Report untuk\", metric.upper())\n",
    "print(classification_report(y_test, y_pred))"
   ]
  }
 ],
 "metadata": {
  "kernelspec": {
   "display_name": "base",
   "language": "python",
   "name": "python3"
  },
  "language_info": {
   "codemirror_mode": {
    "name": "ipython",
    "version": 3
   },
   "file_extension": ".py",
   "mimetype": "text/x-python",
   "name": "python",
   "nbconvert_exporter": "python",
   "pygments_lexer": "ipython3",
   "version": "3.9.7"
  }
 },
 "nbformat": 4,
 "nbformat_minor": 5
}
