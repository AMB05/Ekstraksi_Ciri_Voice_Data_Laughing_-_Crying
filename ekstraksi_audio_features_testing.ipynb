{
 "cells": [
  {
   "cell_type": "code",
   "execution_count": 1,
   "id": "bd485e72",
   "metadata": {},
   "outputs": [],
   "source": [
    "import pandas as pd\n",
    "import numpy as np\n",
    "import seaborn as sns\n",
    "import matplotlib.pyplot as plt\n",
    "from sklearn.model_selection import train_test_split\n",
    "from sklearn.preprocessing import StandardScaler\n",
    "from sklearn.neighbors import KNeighborsClassifier\n",
    "from sklearn.metrics import confusion_matrix, classification_report, accuracy_score"
   ]
  },
  {
   "cell_type": "code",
   "execution_count": 2,
   "id": "6e814208",
   "metadata": {},
   "outputs": [],
   "source": [
    "df = pd.read_csv('audio_features - Copy.csv')\n"
   ]
  },
  {
   "cell_type": "code",
   "execution_count": 3,
   "id": "5a13e837",
   "metadata": {},
   "outputs": [
    {
     "name": "stdout",
     "output_type": "stream",
     "text": [
      "Jumlah Data: 40\n",
      "\n",
      "5 Data Pertama:\n"
     ]
    },
    {
     "data": {
      "text/html": [
       "<div>\n",
       "<style scoped>\n",
       "    .dataframe tbody tr th:only-of-type {\n",
       "        vertical-align: middle;\n",
       "    }\n",
       "\n",
       "    .dataframe tbody tr th {\n",
       "        vertical-align: top;\n",
       "    }\n",
       "\n",
       "    .dataframe thead th {\n",
       "        text-align: right;\n",
       "    }\n",
       "</style>\n",
       "<table border=\"1\" class=\"dataframe\">\n",
       "  <thead>\n",
       "    <tr style=\"text-align: right;\">\n",
       "      <th></th>\n",
       "      <th>Mean</th>\n",
       "      <th>Median</th>\n",
       "      <th>Std</th>\n",
       "      <th>Var</th>\n",
       "      <th>Max</th>\n",
       "      <th>Min</th>\n",
       "      <th>25th Percentile</th>\n",
       "      <th>75th Percentile</th>\n",
       "      <th>Spectral Centroid</th>\n",
       "      <th>Spectral Bandwidth</th>\n",
       "      <th>Spectral Flatness</th>\n",
       "      <th>Spectral Rolloff</th>\n",
       "      <th>Peak Frequency</th>\n",
       "      <th>RMS</th>\n",
       "      <th>Spectral Skewness</th>\n",
       "      <th>Spectral Kurtosis</th>\n",
       "      <th>Label</th>\n",
       "    </tr>\n",
       "  </thead>\n",
       "  <tbody>\n",
       "    <tr>\n",
       "      <th>0</th>\n",
       "      <td>573807.344576</td>\n",
       "      <td>65823.501555</td>\n",
       "      <td>1.762649e+06</td>\n",
       "      <td>3.106930e+12</td>\n",
       "      <td>3.273098e+07</td>\n",
       "      <td>18.704577</td>\n",
       "      <td>22667.034749</td>\n",
       "      <td>465183.614083</td>\n",
       "      <td>1045.988676</td>\n",
       "      <td>1153.017330</td>\n",
       "      <td>0.157278</td>\n",
       "      <td>538.256259</td>\n",
       "      <td>376.705445</td>\n",
       "      <td>1.853695e+06</td>\n",
       "      <td>2.517883</td>\n",
       "      <td>11.245159</td>\n",
       "      <td>crying</td>\n",
       "    </tr>\n",
       "    <tr>\n",
       "      <th>1</th>\n",
       "      <td>59088.452071</td>\n",
       "      <td>9520.214731</td>\n",
       "      <td>2.840597e+05</td>\n",
       "      <td>8.068991e+10</td>\n",
       "      <td>7.290303e+06</td>\n",
       "      <td>1.063642</td>\n",
       "      <td>2890.359062</td>\n",
       "      <td>27863.069787</td>\n",
       "      <td>1053.506256</td>\n",
       "      <td>1664.055466</td>\n",
       "      <td>0.146487</td>\n",
       "      <td>384.338739</td>\n",
       "      <td>379.091176</td>\n",
       "      <td>2.901402e+05</td>\n",
       "      <td>2.698306</td>\n",
       "      <td>9.607174</td>\n",
       "      <td>crying</td>\n",
       "    </tr>\n",
       "    <tr>\n",
       "      <th>2</th>\n",
       "      <td>94059.312189</td>\n",
       "      <td>36728.910846</td>\n",
       "      <td>3.312993e+05</td>\n",
       "      <td>1.097592e+11</td>\n",
       "      <td>8.303505e+06</td>\n",
       "      <td>4.846819</td>\n",
       "      <td>20239.996693</td>\n",
       "      <td>61250.919218</td>\n",
       "      <td>1797.233448</td>\n",
       "      <td>2292.480687</td>\n",
       "      <td>0.362351</td>\n",
       "      <td>334.356795</td>\n",
       "      <td>156.718073</td>\n",
       "      <td>3.443928e+05</td>\n",
       "      <td>1.240019</td>\n",
       "      <td>3.035578</td>\n",
       "      <td>crying</td>\n",
       "    </tr>\n",
       "    <tr>\n",
       "      <th>3</th>\n",
       "      <td>209931.205088</td>\n",
       "      <td>38181.775188</td>\n",
       "      <td>1.169516e+06</td>\n",
       "      <td>1.367768e+12</td>\n",
       "      <td>2.721719e+07</td>\n",
       "      <td>2.233405</td>\n",
       "      <td>18629.379566</td>\n",
       "      <td>76200.729084</td>\n",
       "      <td>1066.046317</td>\n",
       "      <td>1659.386973</td>\n",
       "      <td>0.178065</td>\n",
       "      <td>386.667229</td>\n",
       "      <td>339.471577</td>\n",
       "      <td>1.188209e+06</td>\n",
       "      <td>2.636693</td>\n",
       "      <td>8.862201</td>\n",
       "      <td>crying</td>\n",
       "    </tr>\n",
       "    <tr>\n",
       "      <th>4</th>\n",
       "      <td>162671.474508</td>\n",
       "      <td>114912.480993</td>\n",
       "      <td>2.455587e+05</td>\n",
       "      <td>6.029907e+10</td>\n",
       "      <td>7.331892e+06</td>\n",
       "      <td>38.101189</td>\n",
       "      <td>63362.253362</td>\n",
       "      <td>196205.542554</td>\n",
       "      <td>3380.279422</td>\n",
       "      <td>2369.795633</td>\n",
       "      <td>0.614313</td>\n",
       "      <td>4466.678104</td>\n",
       "      <td>150.969291</td>\n",
       "      <td>2.945523e+05</td>\n",
       "      <td>0.103915</td>\n",
       "      <td>1.746661</td>\n",
       "      <td>crying</td>\n",
       "    </tr>\n",
       "  </tbody>\n",
       "</table>\n",
       "</div>"
      ],
      "text/plain": [
       "            Mean         Median           Std           Var           Max  \\\n",
       "0  573807.344576   65823.501555  1.762649e+06  3.106930e+12  3.273098e+07   \n",
       "1   59088.452071    9520.214731  2.840597e+05  8.068991e+10  7.290303e+06   \n",
       "2   94059.312189   36728.910846  3.312993e+05  1.097592e+11  8.303505e+06   \n",
       "3  209931.205088   38181.775188  1.169516e+06  1.367768e+12  2.721719e+07   \n",
       "4  162671.474508  114912.480993  2.455587e+05  6.029907e+10  7.331892e+06   \n",
       "\n",
       "         Min  25th Percentile  75th Percentile  Spectral Centroid  \\\n",
       "0  18.704577     22667.034749    465183.614083        1045.988676   \n",
       "1   1.063642      2890.359062     27863.069787        1053.506256   \n",
       "2   4.846819     20239.996693     61250.919218        1797.233448   \n",
       "3   2.233405     18629.379566     76200.729084        1066.046317   \n",
       "4  38.101189     63362.253362    196205.542554        3380.279422   \n",
       "\n",
       "   Spectral Bandwidth  Spectral Flatness  Spectral Rolloff  Peak Frequency  \\\n",
       "0         1153.017330           0.157278        538.256259      376.705445   \n",
       "1         1664.055466           0.146487        384.338739      379.091176   \n",
       "2         2292.480687           0.362351        334.356795      156.718073   \n",
       "3         1659.386973           0.178065        386.667229      339.471577   \n",
       "4         2369.795633           0.614313       4466.678104      150.969291   \n",
       "\n",
       "            RMS  Spectral Skewness  Spectral Kurtosis   Label  \n",
       "0  1.853695e+06           2.517883          11.245159  crying  \n",
       "1  2.901402e+05           2.698306           9.607174  crying  \n",
       "2  3.443928e+05           1.240019           3.035578  crying  \n",
       "3  1.188209e+06           2.636693           8.862201  crying  \n",
       "4  2.945523e+05           0.103915           1.746661  crying  "
      ]
     },
     "metadata": {},
     "output_type": "display_data"
    }
   ],
   "source": [
    "print(\"Jumlah Data:\", len(df))\n",
    "print(\"\\n5 Data Pertama:\")\n",
    "display(df.head())"
   ]
  },
  {
   "cell_type": "code",
   "execution_count": 5,
   "id": "41f5825e",
   "metadata": {},
   "outputs": [
    {
     "name": "stdout",
     "output_type": "stream",
     "text": [
      "\n",
      "Distribusi Kelas:\n",
      "crying      20\n",
      "laughing    20\n",
      "Name: Label, dtype: int64\n"
     ]
    }
   ],
   "source": [
    "print(\"\\nDistribusi Kelas:\")\n",
    "print(df['Label'].value_counts())"
   ]
  },
  {
   "cell_type": "code",
   "execution_count": 8,
   "id": "13a413a9",
   "metadata": {},
   "outputs": [],
   "source": [
    "X = df.drop('Label', axis=1)\n",
    "y = df['Label']"
   ]
  },
  {
   "cell_type": "code",
   "execution_count": 9,
   "id": "9d57c8ce",
   "metadata": {},
   "outputs": [],
   "source": [
    "X_train, X_test, y_train, y_test = train_test_split(\n",
    "    X, y,\n",
    "    test_size=0.2,\n",
    "    random_state=42,\n",
    "    stratify=y\n",
    ")"
   ]
  },
  {
   "cell_type": "code",
   "execution_count": 10,
   "id": "6698fa1b",
   "metadata": {},
   "outputs": [],
   "source": [
    "scaler = StandardScaler()\n",
    "X_train_scaled = scaler.fit_transform(X_train)\n",
    "X_test_scaled = scaler.transform(X_test)"
   ]
  },
  {
   "cell_type": "code",
   "execution_count": 11,
   "id": "4db99f28",
   "metadata": {},
   "outputs": [],
   "source": [
    "def evaluate_model(model, X_test, y_test):\n",
    "    y_pred = model.predict(X_test)\n",
    "    \n",
    "    # Confusion Matrix\n",
    "    cm = confusion_matrix(y_test, y_pred)\n",
    "    plt.figure(figsize=(5,4))\n",
    "    sns.heatmap(cm, annot=True, fmt='d', cmap='Blues',\n",
    "                xticklabels=model.classes_, yticklabels=model.classes_)\n",
    "    plt.title('Confusion Matrix')\n",
    "    plt.xlabel('Predicted')\n",
    "    plt.ylabel('Actual')\n",
    "    plt.show()\n",
    "    \n",
    "    # Classification Report\n",
    "    print(\"\\nClassification Report:\")\n",
    "    print(classification_report(y_test, y_pred))\n",
    "    \n",
    "    return accuracy_score(y_test, y_pred)\n"
   ]
  },
  {
   "cell_type": "code",
   "execution_count": 12,
   "id": "38b01444",
   "metadata": {},
   "outputs": [
    {
     "name": "stdout",
     "output_type": "stream",
     "text": [
      "\n",
      "========================================\n",
      "Evaluasi untuk Metrik EUCLIDEAN\n",
      "========================================\n"
     ]
    },
    {
     "data": {
      "image/png": "[encoded data removed]",
      "text/plain": [
       "<Figure size 360x288 with 2 Axes>"
      ]
     },
     "metadata": {
      "needs_background": "light"
     },
     "output_type": "display_data"
    },
    {
     "name": "stdout",
     "output_type": "stream",
     "text": [
      "\n",
      "Classification Report:\n",
      "              precision    recall  f1-score   support\n",
      "\n",
      "      crying       0.67      1.00      0.80         4\n",
      "    laughing       1.00      0.50      0.67         4\n",
      "\n",
      "    accuracy                           0.75         8\n",
      "   macro avg       0.83      0.75      0.73         8\n",
      "weighted avg       0.83      0.75      0.73         8\n",
      "\n",
      "\n",
      "========================================\n",
      "Evaluasi untuk Metrik MANHATTAN\n",
      "========================================\n"
     ]
    },
    {
     "data": {
      "image/png": "[encoded data removed]",
      "text/plain": [
       "<Figure size 360x288 with 2 Axes>"
      ]
     },
     "metadata": {
      "needs_background": "light"
     },
     "output_type": "display_data"
    },
    {
     "name": "stdout",
     "output_type": "stream",
     "text": [
      "\n",
      "Classification Report:\n",
      "              precision    recall  f1-score   support\n",
      "\n",
      "      crying       0.67      1.00      0.80         4\n",
      "    laughing       1.00      0.50      0.67         4\n",
      "\n",
      "    accuracy                           0.75         8\n",
      "   macro avg       0.83      0.75      0.73         8\n",
      "weighted avg       0.83      0.75      0.73         8\n",
      "\n",
      "\n",
      "========================================\n",
      "Evaluasi untuk Metrik CHEBYSHEV\n",
      "========================================\n"
     ]
    },
    {
     "data": {
      "image/png": "[encoded data removed]",
      "text/plain": [
       "<Figure size 360x288 with 2 Axes>"
      ]
     },
     "metadata": {
      "needs_background": "light"
     },
     "output_type": "display_data"
    },
    {
     "name": "stdout",
     "output_type": "stream",
     "text": [
      "\n",
      "Classification Report:\n",
      "              precision    recall  f1-score   support\n",
      "\n",
      "      crying       0.67      1.00      0.80         4\n",
      "    laughing       1.00      0.50      0.67         4\n",
      "\n",
      "    accuracy                           0.75         8\n",
      "   macro avg       0.83      0.75      0.73         8\n",
      "weighted avg       0.83      0.75      0.73         8\n",
      "\n"
     ]
    }
   ],
   "source": [
    "metrics = ['euclidean', 'manhattan', 'chebyshev']\n",
    "results = {}\n",
    "\n",
    "for metric in metrics:\n",
    "    print(f\"\\n{'='*40}\")\n",
    "    print(f\"Evaluasi untuk Metrik {metric.upper()}\")\n",
    "    print(f\"{'='*40}\")\n",
    "    \n",
    "    # Membuat dan melatih model\n",
    "    knn = KNeighborsClassifier(\n",
    "        n_neighbors=3,\n",
    "        metric=metric\n",
    "    )\n",
    "    knn.fit(X_train_scaled, y_train)\n",
    "    \n",
    "    # Evaluasi model\n",
    "    acc = evaluate_model(knn, X_test_scaled, y_test)\n",
    "    results[metric] = acc"
   ]
  },
  {
   "cell_type": "code",
   "execution_count": 13,
   "id": "e42cba5d",
   "metadata": {},
   "outputs": [
    {
     "name": "stdout",
     "output_type": "stream",
     "text": [
      "\n",
      "Perbandingan Akurasi Akhir:\n",
      "EUCLIDEAN : 75.00%\n",
      "MANHATTAN : 75.00%\n",
      "CHEBYSHEV : 75.00%\n"
     ]
    }
   ],
   "source": [
    "print(\"\\nPerbandingan Akurasi Akhir:\")\n",
    "for metric, accuracy in results.items():\n",
    "    print(f\"{metric.upper():<10}: {accuracy:.2%}\")"
   ]
  }
 ],
 "metadata": {
  "kernelspec": {
   "display_name": "base",
   "language": "python",
   "name": "python3"
  },
  "language_info": {
   "codemirror_mode": {
    "name": "ipython",
    "version": 3
   },
   "file_extension": ".py",
   "mimetype": "text/x-python",
   "name": "python",
   "nbconvert_exporter": "python",
   "pygments_lexer": "ipython3",
   "version": "3.9.7"
  }
 },
 "nbformat": 4,
 "nbformat_minor": 5
}
