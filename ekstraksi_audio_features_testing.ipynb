{
 "cells": [
  {
   "cell_type": "code",
   "execution_count": 18,
   "id": "bd485e72",
   "metadata": {},
   "outputs": [],
   "source": [
    "import pandas as pd\n",
    "import numpy as np\n",
    "import seaborn as sns\n",
    "import matplotlib.pyplot as plt\n",
    "from sklearn.model_selection import train_test_split\n",
    "from sklearn.preprocessing import StandardScaler\n",
    "from sklearn.neighbors import KNeighborsClassifier\n",
    "from sklearn.metrics import confusion_matrix, classification_report, accuracy_score"
   ]
  },
  {
   "cell_type": "code",
   "execution_count": 19,
   "id": "6e814208",
   "metadata": {},
   "outputs": [],
   "source": [
    "df = pd.read_csv('cryinglaughing_features.csv')\n"
   ]
  },
  {
   "cell_type": "code",
   "execution_count": 20,
   "id": "5a13e837",
   "metadata": {},
   "outputs": [
    {
     "name": "stdout",
     "output_type": "stream",
     "text": [
      "Jumlah Data: 40\n",
      "\n",
      "5 Data Pertama:\n"
     ]
    },
    {
     "data": {
      "text/html": [
       "<div>\n",
       "<style scoped>\n",
       "    .dataframe tbody tr th:only-of-type {\n",
       "        vertical-align: middle;\n",
       "    }\n",
       "\n",
       "    .dataframe tbody tr th {\n",
       "        vertical-align: top;\n",
       "    }\n",
       "\n",
       "    .dataframe thead th {\n",
       "        text-align: right;\n",
       "    }\n",
       "</style>\n",
       "<table border=\"1\" class=\"dataframe\">\n",
       "  <thead>\n",
       "    <tr style=\"text-align: right;\">\n",
       "      <th></th>\n",
       "      <th>0</th>\n",
       "      <th>1</th>\n",
       "      <th>2</th>\n",
       "      <th>3</th>\n",
       "      <th>4</th>\n",
       "      <th>5</th>\n",
       "      <th>6</th>\n",
       "      <th>7</th>\n",
       "      <th>8</th>\n",
       "      <th>9</th>\n",
       "      <th>10</th>\n",
       "      <th>11</th>\n",
       "      <th>12</th>\n",
       "      <th>13</th>\n",
       "      <th>14</th>\n",
       "      <th>15</th>\n",
       "      <th>label</th>\n",
       "    </tr>\n",
       "  </thead>\n",
       "  <tbody>\n",
       "    <tr>\n",
       "      <th>0</th>\n",
       "      <td>-2310.7358</td>\n",
       "      <td>168.961550</td>\n",
       "      <td>89.736310</td>\n",
       "      <td>62.125824</td>\n",
       "      <td>24.097116</td>\n",
       "      <td>-20.319550</td>\n",
       "      <td>-19.241568</td>\n",
       "      <td>5.522614</td>\n",
       "      <td>-21.432621</td>\n",
       "      <td>9.865933</td>\n",
       "      <td>13.760837</td>\n",
       "      <td>42.690937</td>\n",
       "      <td>34.236862</td>\n",
       "      <td>36.093460</td>\n",
       "      <td>-0.830130</td>\n",
       "      <td>1.041367</td>\n",
       "      <td>crying</td>\n",
       "    </tr>\n",
       "    <tr>\n",
       "      <th>1</th>\n",
       "      <td>-2122.7788</td>\n",
       "      <td>-1.604806</td>\n",
       "      <td>121.856050</td>\n",
       "      <td>35.709984</td>\n",
       "      <td>-44.236240</td>\n",
       "      <td>63.252728</td>\n",
       "      <td>-29.746082</td>\n",
       "      <td>84.843216</td>\n",
       "      <td>-12.022893</td>\n",
       "      <td>28.858930</td>\n",
       "      <td>-29.235443</td>\n",
       "      <td>17.402885</td>\n",
       "      <td>-24.137320</td>\n",
       "      <td>35.699577</td>\n",
       "      <td>-22.581816</td>\n",
       "      <td>-5.880320</td>\n",
       "      <td>crying</td>\n",
       "    </tr>\n",
       "    <tr>\n",
       "      <th>2</th>\n",
       "      <td>-2148.0088</td>\n",
       "      <td>82.941330</td>\n",
       "      <td>29.690516</td>\n",
       "      <td>-30.795494</td>\n",
       "      <td>93.242230</td>\n",
       "      <td>58.931587</td>\n",
       "      <td>-8.009898</td>\n",
       "      <td>45.796726</td>\n",
       "      <td>-18.018501</td>\n",
       "      <td>77.695015</td>\n",
       "      <td>-29.004654</td>\n",
       "      <td>1.607312</td>\n",
       "      <td>-28.199972</td>\n",
       "      <td>18.190794</td>\n",
       "      <td>-58.247850</td>\n",
       "      <td>12.012989</td>\n",
       "      <td>crying</td>\n",
       "    </tr>\n",
       "    <tr>\n",
       "      <th>3</th>\n",
       "      <td>-2233.3323</td>\n",
       "      <td>135.504600</td>\n",
       "      <td>109.808840</td>\n",
       "      <td>-43.869312</td>\n",
       "      <td>-81.135260</td>\n",
       "      <td>35.676495</td>\n",
       "      <td>-58.260704</td>\n",
       "      <td>29.546520</td>\n",
       "      <td>-9.723966</td>\n",
       "      <td>28.376953</td>\n",
       "      <td>16.102468</td>\n",
       "      <td>13.290146</td>\n",
       "      <td>-37.431470</td>\n",
       "      <td>-34.111286</td>\n",
       "      <td>-37.486500</td>\n",
       "      <td>-10.502954</td>\n",
       "      <td>crying</td>\n",
       "    </tr>\n",
       "    <tr>\n",
       "      <th>4</th>\n",
       "      <td>-2217.2136</td>\n",
       "      <td>291.981570</td>\n",
       "      <td>101.133630</td>\n",
       "      <td>-11.324380</td>\n",
       "      <td>21.937824</td>\n",
       "      <td>49.268127</td>\n",
       "      <td>16.706978</td>\n",
       "      <td>-5.616988</td>\n",
       "      <td>-29.366375</td>\n",
       "      <td>23.783356</td>\n",
       "      <td>35.872290</td>\n",
       "      <td>28.204603</td>\n",
       "      <td>-29.148338</td>\n",
       "      <td>-24.805496</td>\n",
       "      <td>-26.857000</td>\n",
       "      <td>-12.117413</td>\n",
       "      <td>crying</td>\n",
       "    </tr>\n",
       "  </tbody>\n",
       "</table>\n",
       "</div>"
      ],
      "text/plain": [
       "           0           1           2          3          4          5  \\\n",
       "0 -2310.7358  168.961550   89.736310  62.125824  24.097116 -20.319550   \n",
       "1 -2122.7788   -1.604806  121.856050  35.709984 -44.236240  63.252728   \n",
       "2 -2148.0088   82.941330   29.690516 -30.795494  93.242230  58.931587   \n",
       "3 -2233.3323  135.504600  109.808840 -43.869312 -81.135260  35.676495   \n",
       "4 -2217.2136  291.981570  101.133630 -11.324380  21.937824  49.268127   \n",
       "\n",
       "           6          7          8          9         10         11  \\\n",
       "0 -19.241568   5.522614 -21.432621   9.865933  13.760837  42.690937   \n",
       "1 -29.746082  84.843216 -12.022893  28.858930 -29.235443  17.402885   \n",
       "2  -8.009898  45.796726 -18.018501  77.695015 -29.004654   1.607312   \n",
       "3 -58.260704  29.546520  -9.723966  28.376953  16.102468  13.290146   \n",
       "4  16.706978  -5.616988 -29.366375  23.783356  35.872290  28.204603   \n",
       "\n",
       "          12         13         14         15   label  \n",
       "0  34.236862  36.093460  -0.830130   1.041367  crying  \n",
       "1 -24.137320  35.699577 -22.581816  -5.880320  crying  \n",
       "2 -28.199972  18.190794 -58.247850  12.012989  crying  \n",
       "3 -37.431470 -34.111286 -37.486500 -10.502954  crying  \n",
       "4 -29.148338 -24.805496 -26.857000 -12.117413  crying  "
      ]
     },
     "metadata": {},
     "output_type": "display_data"
    }
   ],
   "source": [
    "print(\"Jumlah Data:\", len(df))\n",
    "print(\"\\n5 Data Pertama:\")\n",
    "display(df.head())"
   ]
  },
  {
   "cell_type": "code",
   "execution_count": 21,
   "id": "41f5825e",
   "metadata": {},
   "outputs": [
    {
     "name": "stdout",
     "output_type": "stream",
     "text": [
      "\n",
      "Distribusi Kelas:\n",
      "crying      20\n",
      "laughing    20\n",
      "Name: label, dtype: int64\n"
     ]
    }
   ],
   "source": [
    "print(\"\\nDistribusi Kelas:\")\n",
    "print(df['label'].value_counts())"
   ]
  },
  {
   "cell_type": "code",
   "execution_count": 31,
   "id": "13a413a9",
   "metadata": {},
   "outputs": [],
   "source": [
    "X = df.drop('label', axis=1)\n",
    "y = df['label']"
   ]
  },
  {
   "cell_type": "code",
   "execution_count": 32,
   "id": "9d57c8ce",
   "metadata": {},
   "outputs": [],
   "source": [
    "X_train, X_test, y_train, y_test = train_test_split(\n",
    "    X, y,\n",
    "    test_size=0.2,\n",
    "    random_state=42,\n",
    "    stratify=y\n",
    ")"
   ]
  },
  {
   "cell_type": "code",
   "execution_count": 33,
   "id": "6698fa1b",
   "metadata": {},
   "outputs": [],
   "source": [
    "scaler = StandardScaler()\n",
    "X_train_scaled = scaler.fit_transform(X_train)\n",
    "X_test_scaled = scaler.transform(X_test)"
   ]
  },
  {
   "cell_type": "code",
   "execution_count": 34,
   "id": "4db99f28",
   "metadata": {},
   "outputs": [],
   "source": [
    "def evaluate_model(model, X_test, y_test):\n",
    "    y_pred = model.predict(X_test)\n",
    "    \n",
    "    # Confusion Matrix\n",
    "    cm = confusion_matrix(y_test, y_pred)\n",
    "    plt.figure(figsize=(5,4))\n",
    "    sns.heatmap(cm, annot=True, fmt='d', cmap='Blues',\n",
    "                xticklabels=model.classes_, yticklabels=model.classes_)\n",
    "    plt.title('Confusion Matrix')\n",
    "    plt.xlabel('Predicted')\n",
    "    plt.ylabel('Actual')\n",
    "    plt.show()\n",
    "    \n",
    "    # Classification Report\n",
    "    print(\"\\nClassification Report:\")\n",
    "    print(classification_report(y_test, y_pred))\n",
    "    \n",
    "    return accuracy_score(y_test, y_pred)\n"
   ]
  },
  {
   "cell_type": "code",
   "execution_count": 35,
   "id": "38b01444",
   "metadata": {},
   "outputs": [
    {
     "name": "stdout",
     "output_type": "stream",
     "text": [
      "\n",
      "========================================\n",
      "Evaluasi untuk Metrik EUCLIDEAN\n",
      "========================================\n"
     ]
    },
    {
     "data": {
      "image/png": "[encoded data removed]",
      "text/plain": [
       "<Figure size 360x288 with 2 Axes>"
      ]
     },
     "metadata": {
      "needs_background": "light"
     },
     "output_type": "display_data"
    },
    {
     "name": "stdout",
     "output_type": "stream",
     "text": [
      "\n",
      "Classification Report:\n",
      "              precision    recall  f1-score   support\n",
      "\n",
      "      crying       0.50      0.25      0.33         4\n",
      "    laughing       0.50      0.75      0.60         4\n",
      "\n",
      "    accuracy                           0.50         8\n",
      "   macro avg       0.50      0.50      0.47         8\n",
      "weighted avg       0.50      0.50      0.47         8\n",
      "\n",
      "\n",
      "========================================\n",
      "Evaluasi untuk Metrik MANHATTAN\n",
      "========================================\n"
     ]
    },
    {
     "data": {
      "image/png": "[encoded data removed]",
      "text/plain": [
       "<Figure size 360x288 with 2 Axes>"
      ]
     },
     "metadata": {
      "needs_background": "light"
     },
     "output_type": "display_data"
    },
    {
     "name": "stdout",
     "output_type": "stream",
     "text": [
      "\n",
      "Classification Report:\n",
      "              precision    recall  f1-score   support\n",
      "\n",
      "      crying       0.75      0.75      0.75         4\n",
      "    laughing       0.75      0.75      0.75         4\n",
      "\n",
      "    accuracy                           0.75         8\n",
      "   macro avg       0.75      0.75      0.75         8\n",
      "weighted avg       0.75      0.75      0.75         8\n",
      "\n",
      "\n",
      "========================================\n",
      "Evaluasi untuk Metrik CHEBYSHEV\n",
      "========================================\n"
     ]
    },
    {
     "data": {
      "image/png": "[encoded data removed]",
      "text/plain": [
       "<Figure size 360x288 with 2 Axes>"
      ]
     },
     "metadata": {
      "needs_background": "light"
     },
     "output_type": "display_data"
    },
    {
     "name": "stdout",
     "output_type": "stream",
     "text": [
      "\n",
      "Classification Report:\n",
      "              precision    recall  f1-score   support\n",
      "\n",
      "      crying       0.75      0.75      0.75         4\n",
      "    laughing       0.75      0.75      0.75         4\n",
      "\n",
      "    accuracy                           0.75         8\n",
      "   macro avg       0.75      0.75      0.75         8\n",
      "weighted avg       0.75      0.75      0.75         8\n",
      "\n"
     ]
    }
   ],
   "source": [
    "metrics = ['euclidean', 'manhattan', 'chebyshev']\n",
    "results = {}\n",
    "\n",
    "for metric in metrics:\n",
    "    print(f\"\\n{'='*40}\")\n",
    "    print(f\"Evaluasi untuk Metrik {metric.upper()}\")\n",
    "    print(f\"{'='*40}\")\n",
    "    \n",
    "    # Membuat dan melatih model\n",
    "    knn = KNeighborsClassifier(\n",
    "        n_neighbors=3,\n",
    "        metric=metric\n",
    "    )\n",
    "    knn.fit(X_train_scaled, y_train)\n",
    "    \n",
    "    # Evaluasi model\n",
    "    acc = evaluate_model(knn, X_test_scaled, y_test)\n",
    "    results[metric] = acc"
   ]
  },
  {
   "cell_type": "code",
   "execution_count": 36,
   "id": "e42cba5d",
   "metadata": {},
   "outputs": [
    {
     "name": "stdout",
     "output_type": "stream",
     "text": [
      "\n",
      "Perbandingan Akurasi Akhir:\n",
      "EUCLIDEAN : 50.00%\n",
      "MANHATTAN : 75.00%\n",
      "CHEBYSHEV : 75.00%\n"
     ]
    }
   ],
   "source": [
    "print(\"\\nPerbandingan Akurasi Akhir:\")\n",
    "for metric, accuracy in results.items():\n",
    "    print(f\"{metric.upper():<10}: {accuracy:.2%}\")"
   ]
  }
 ],
 "metadata": {
  "kernelspec": {
   "display_name": "base",
   "language": "python",
   "name": "python3"
  },
  "language_info": {
   "codemirror_mode": {
    "name": "ipython",
    "version": 3
   },
   "file_extension": ".py",
   "mimetype": "text/x-python",
   "name": "python",
   "nbconvert_exporter": "python",
   "pygments_lexer": "ipython3",
   "version": "3.9.7"
  }
 },
 "nbformat": 4,
 "nbformat_minor": 5
}
